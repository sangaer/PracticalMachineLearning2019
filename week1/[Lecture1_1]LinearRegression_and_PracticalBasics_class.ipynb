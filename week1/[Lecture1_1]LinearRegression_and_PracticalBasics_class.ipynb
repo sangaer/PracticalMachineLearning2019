{
  "nbformat": 4,
  "nbformat_minor": 0,
  "metadata": {
    "colab": {
      "name": "[Lecture1-1]LinearRegression_and_PracticalBasics_class.ipynb",
      "provenance": [],
      "collapsed_sections": [],
      "include_colab_link": true
    },
    "kernelspec": {
      "name": "python3",
      "display_name": "Python 3"
    }
  },
  "cells": [
    {
      "cell_type": "markdown",
      "metadata": {
        "id": "view-in-github",
        "colab_type": "text"
      },
      "source": [
        "<a href=\"https://colab.research.google.com/github/sangaer/PracticalMachineLearning2019/blob/master/%5BLecture1_1%5DLinearRegression_and_PracticalBasics_class.ipynb\" target=\"_parent\"><img src=\"https://colab.research.google.com/assets/colab-badge.svg\" alt=\"Open In Colab\"/></a>"
      ]
    },
    {
      "cell_type": "markdown",
      "metadata": {
        "id": "rAWFQDdGc3oC",
        "colab_type": "text"
      },
      "source": [
        "# Lecture 1-1: Linear Regression"
      ]
    },
    {
      "cell_type": "markdown",
      "metadata": {
        "id": "JoSI4tmoctZN",
        "colab_type": "text"
      },
      "source": [
        "### Libraries"
      ]
    },
    {
      "cell_type": "code",
      "metadata": {
        "id": "A3ChKEaeGYi2",
        "colab_type": "code",
        "colab": {}
      },
      "source": [
        "# machine learning library\n",
        "import sklearn # https://scikit-learn.org/stable/\n",
        "\n",
        "# linear algebra\n",
        "import numpy as np # https://numpy.org/\n",
        "\n",
        "# data processing\n",
        "import pandas as pd # https://github.com/pandas-dev/pandas\n"
      ],
      "execution_count": 0,
      "outputs": []
    },
    {
      "cell_type": "markdown",
      "metadata": {
        "id": "Kj7zk-PwGPrb",
        "colab_type": "text"
      },
      "source": [
        "# Task: predict \"median_house_value\" with the rest columns"
      ]
    },
    {
      "cell_type": "code",
      "metadata": {
        "id": "fYY6iGiZD9_V",
        "colab_type": "code",
        "colab": {}
      },
      "source": [
        "train_file = 'sample_data/california_housing_train.csv'\n",
        "test_file = 'sample_data/california_housing_test.csv'"
      ],
      "execution_count": 0,
      "outputs": []
    },
    {
      "cell_type": "markdown",
      "metadata": {
        "id": "GfO4jUrcuRyL",
        "colab_type": "text"
      },
      "source": [
        "pd.DataFrame"
      ]
    },
    {
      "cell_type": "code",
      "metadata": {
        "id": "iDMj0cb4WaUX",
        "colab_type": "code",
        "colab": {}
      },
      "source": [
        "### impliment your code here: ###\n",
        "\n",
        "df_train = pd.read_csv(train_file)\n",
        "df_test = pd.read_csv(test_file)\n",
        "\n",
        "### impliment your code here: ###"
      ],
      "execution_count": 0,
      "outputs": []
    },
    {
      "cell_type": "markdown",
      "metadata": {
        "id": "_-x3a_NYum1v",
        "colab_type": "text"
      },
      "source": [
        "### Take a glace at the data."
      ]
    },
    {
      "cell_type": "code",
      "metadata": {
        "id": "fIpFYykduCOI",
        "colab_type": "code",
        "colab": {
          "base_uri": "https://localhost:8080/",
          "height": 35
        },
        "outputId": "55e8e55a-c489-484e-f6aa-130159f59146"
      },
      "source": [
        "df_train.shape"
      ],
      "execution_count": 4,
      "outputs": [
        {
          "output_type": "execute_result",
          "data": {
            "text/plain": [
              "(17000, 9)"
            ]
          },
          "metadata": {
            "tags": []
          },
          "execution_count": 4
        }
      ]
    },
    {
      "cell_type": "code",
      "metadata": {
        "id": "_X-88quauCJ0",
        "colab_type": "code",
        "colab": {
          "base_uri": "https://localhost:8080/",
          "height": 35
        },
        "outputId": "92d4294d-ef6b-43f7-ff67-92318bed33de"
      },
      "source": [
        "print('df_train is a {} with {} samples and {} features'.format(\n",
        "    type(df_train), \n",
        "    df_train.shape[0], \n",
        "    df_train.shape[1]))"
      ],
      "execution_count": 5,
      "outputs": [
        {
          "output_type": "stream",
          "text": [
            "df_train is a <class 'pandas.core.frame.DataFrame'> with 17000 samples and 9 features\n"
          ],
          "name": "stdout"
        }
      ]
    },
    {
      "cell_type": "code",
      "metadata": {
        "id": "YhdpYKQFuB9b",
        "colab_type": "code",
        "colab": {
          "base_uri": "https://localhost:8080/",
          "height": 35
        },
        "outputId": "3218d883-14c2-4f68-c123-de267404b22d"
      },
      "source": [
        "print('df_test is a {} with {} samples and {} features'.format(\n",
        "    type(df_test), \n",
        "    df_test.shape[0], \n",
        "    df_test.shape[1]))"
      ],
      "execution_count": 6,
      "outputs": [
        {
          "output_type": "stream",
          "text": [
            "df_test is a <class 'pandas.core.frame.DataFrame'> with 3000 samples and 9 features\n"
          ],
          "name": "stdout"
        }
      ]
    },
    {
      "cell_type": "code",
      "metadata": {
        "id": "9yejPTdNv2w-",
        "colab_type": "code",
        "colab": {
          "base_uri": "https://localhost:8080/",
          "height": 198
        },
        "outputId": "6cedf7a0-2bf7-4271-f98f-d84f1493d2b4"
      },
      "source": [
        "df_train.head(5)"
      ],
      "execution_count": 7,
      "outputs": [
        {
          "output_type": "execute_result",
          "data": {
            "text/html": [
              "<div>\n",
              "<style scoped>\n",
              "    .dataframe tbody tr th:only-of-type {\n",
              "        vertical-align: middle;\n",
              "    }\n",
              "\n",
              "    .dataframe tbody tr th {\n",
              "        vertical-align: top;\n",
              "    }\n",
              "\n",
              "    .dataframe thead th {\n",
              "        text-align: right;\n",
              "    }\n",
              "</style>\n",
              "<table border=\"1\" class=\"dataframe\">\n",
              "  <thead>\n",
              "    <tr style=\"text-align: right;\">\n",
              "      <th></th>\n",
              "      <th>longitude</th>\n",
              "      <th>latitude</th>\n",
              "      <th>housing_median_age</th>\n",
              "      <th>total_rooms</th>\n",
              "      <th>total_bedrooms</th>\n",
              "      <th>population</th>\n",
              "      <th>households</th>\n",
              "      <th>median_income</th>\n",
              "      <th>median_house_value</th>\n",
              "    </tr>\n",
              "  </thead>\n",
              "  <tbody>\n",
              "    <tr>\n",
              "      <th>0</th>\n",
              "      <td>-114.31</td>\n",
              "      <td>34.19</td>\n",
              "      <td>15.0</td>\n",
              "      <td>5612.0</td>\n",
              "      <td>1283.0</td>\n",
              "      <td>1015.0</td>\n",
              "      <td>472.0</td>\n",
              "      <td>1.4936</td>\n",
              "      <td>66900.0</td>\n",
              "    </tr>\n",
              "    <tr>\n",
              "      <th>1</th>\n",
              "      <td>-114.47</td>\n",
              "      <td>34.40</td>\n",
              "      <td>19.0</td>\n",
              "      <td>7650.0</td>\n",
              "      <td>1901.0</td>\n",
              "      <td>1129.0</td>\n",
              "      <td>463.0</td>\n",
              "      <td>1.8200</td>\n",
              "      <td>80100.0</td>\n",
              "    </tr>\n",
              "    <tr>\n",
              "      <th>2</th>\n",
              "      <td>-114.56</td>\n",
              "      <td>33.69</td>\n",
              "      <td>17.0</td>\n",
              "      <td>720.0</td>\n",
              "      <td>174.0</td>\n",
              "      <td>333.0</td>\n",
              "      <td>117.0</td>\n",
              "      <td>1.6509</td>\n",
              "      <td>85700.0</td>\n",
              "    </tr>\n",
              "    <tr>\n",
              "      <th>3</th>\n",
              "      <td>-114.57</td>\n",
              "      <td>33.64</td>\n",
              "      <td>14.0</td>\n",
              "      <td>1501.0</td>\n",
              "      <td>337.0</td>\n",
              "      <td>515.0</td>\n",
              "      <td>226.0</td>\n",
              "      <td>3.1917</td>\n",
              "      <td>73400.0</td>\n",
              "    </tr>\n",
              "    <tr>\n",
              "      <th>4</th>\n",
              "      <td>-114.57</td>\n",
              "      <td>33.57</td>\n",
              "      <td>20.0</td>\n",
              "      <td>1454.0</td>\n",
              "      <td>326.0</td>\n",
              "      <td>624.0</td>\n",
              "      <td>262.0</td>\n",
              "      <td>1.9250</td>\n",
              "      <td>65500.0</td>\n",
              "    </tr>\n",
              "  </tbody>\n",
              "</table>\n",
              "</div>"
            ],
            "text/plain": [
              "   longitude  latitude  ...  median_income  median_house_value\n",
              "0    -114.31     34.19  ...         1.4936             66900.0\n",
              "1    -114.47     34.40  ...         1.8200             80100.0\n",
              "2    -114.56     33.69  ...         1.6509             85700.0\n",
              "3    -114.57     33.64  ...         3.1917             73400.0\n",
              "4    -114.57     33.57  ...         1.9250             65500.0\n",
              "\n",
              "[5 rows x 9 columns]"
            ]
          },
          "metadata": {
            "tags": []
          },
          "execution_count": 7
        }
      ]
    },
    {
      "cell_type": "code",
      "metadata": {
        "id": "gUUs23COv25m",
        "colab_type": "code",
        "colab": {
          "base_uri": "https://localhost:8080/",
          "height": 288
        },
        "outputId": "8a44dc6b-a2f4-4c1a-cf35-8be0dc847ba2"
      },
      "source": [
        "df_train.describe()"
      ],
      "execution_count": 8,
      "outputs": [
        {
          "output_type": "execute_result",
          "data": {
            "text/html": [
              "<div>\n",
              "<style scoped>\n",
              "    .dataframe tbody tr th:only-of-type {\n",
              "        vertical-align: middle;\n",
              "    }\n",
              "\n",
              "    .dataframe tbody tr th {\n",
              "        vertical-align: top;\n",
              "    }\n",
              "\n",
              "    .dataframe thead th {\n",
              "        text-align: right;\n",
              "    }\n",
              "</style>\n",
              "<table border=\"1\" class=\"dataframe\">\n",
              "  <thead>\n",
              "    <tr style=\"text-align: right;\">\n",
              "      <th></th>\n",
              "      <th>longitude</th>\n",
              "      <th>latitude</th>\n",
              "      <th>housing_median_age</th>\n",
              "      <th>total_rooms</th>\n",
              "      <th>total_bedrooms</th>\n",
              "      <th>population</th>\n",
              "      <th>households</th>\n",
              "      <th>median_income</th>\n",
              "      <th>median_house_value</th>\n",
              "    </tr>\n",
              "  </thead>\n",
              "  <tbody>\n",
              "    <tr>\n",
              "      <th>count</th>\n",
              "      <td>17000.000000</td>\n",
              "      <td>17000.000000</td>\n",
              "      <td>17000.000000</td>\n",
              "      <td>17000.000000</td>\n",
              "      <td>17000.000000</td>\n",
              "      <td>17000.000000</td>\n",
              "      <td>17000.000000</td>\n",
              "      <td>17000.000000</td>\n",
              "      <td>17000.000000</td>\n",
              "    </tr>\n",
              "    <tr>\n",
              "      <th>mean</th>\n",
              "      <td>-119.562108</td>\n",
              "      <td>35.625225</td>\n",
              "      <td>28.589353</td>\n",
              "      <td>2643.664412</td>\n",
              "      <td>539.410824</td>\n",
              "      <td>1429.573941</td>\n",
              "      <td>501.221941</td>\n",
              "      <td>3.883578</td>\n",
              "      <td>207300.912353</td>\n",
              "    </tr>\n",
              "    <tr>\n",
              "      <th>std</th>\n",
              "      <td>2.005166</td>\n",
              "      <td>2.137340</td>\n",
              "      <td>12.586937</td>\n",
              "      <td>2179.947071</td>\n",
              "      <td>421.499452</td>\n",
              "      <td>1147.852959</td>\n",
              "      <td>384.520841</td>\n",
              "      <td>1.908157</td>\n",
              "      <td>115983.764387</td>\n",
              "    </tr>\n",
              "    <tr>\n",
              "      <th>min</th>\n",
              "      <td>-124.350000</td>\n",
              "      <td>32.540000</td>\n",
              "      <td>1.000000</td>\n",
              "      <td>2.000000</td>\n",
              "      <td>1.000000</td>\n",
              "      <td>3.000000</td>\n",
              "      <td>1.000000</td>\n",
              "      <td>0.499900</td>\n",
              "      <td>14999.000000</td>\n",
              "    </tr>\n",
              "    <tr>\n",
              "      <th>25%</th>\n",
              "      <td>-121.790000</td>\n",
              "      <td>33.930000</td>\n",
              "      <td>18.000000</td>\n",
              "      <td>1462.000000</td>\n",
              "      <td>297.000000</td>\n",
              "      <td>790.000000</td>\n",
              "      <td>282.000000</td>\n",
              "      <td>2.566375</td>\n",
              "      <td>119400.000000</td>\n",
              "    </tr>\n",
              "    <tr>\n",
              "      <th>50%</th>\n",
              "      <td>-118.490000</td>\n",
              "      <td>34.250000</td>\n",
              "      <td>29.000000</td>\n",
              "      <td>2127.000000</td>\n",
              "      <td>434.000000</td>\n",
              "      <td>1167.000000</td>\n",
              "      <td>409.000000</td>\n",
              "      <td>3.544600</td>\n",
              "      <td>180400.000000</td>\n",
              "    </tr>\n",
              "    <tr>\n",
              "      <th>75%</th>\n",
              "      <td>-118.000000</td>\n",
              "      <td>37.720000</td>\n",
              "      <td>37.000000</td>\n",
              "      <td>3151.250000</td>\n",
              "      <td>648.250000</td>\n",
              "      <td>1721.000000</td>\n",
              "      <td>605.250000</td>\n",
              "      <td>4.767000</td>\n",
              "      <td>265000.000000</td>\n",
              "    </tr>\n",
              "    <tr>\n",
              "      <th>max</th>\n",
              "      <td>-114.310000</td>\n",
              "      <td>41.950000</td>\n",
              "      <td>52.000000</td>\n",
              "      <td>37937.000000</td>\n",
              "      <td>6445.000000</td>\n",
              "      <td>35682.000000</td>\n",
              "      <td>6082.000000</td>\n",
              "      <td>15.000100</td>\n",
              "      <td>500001.000000</td>\n",
              "    </tr>\n",
              "  </tbody>\n",
              "</table>\n",
              "</div>"
            ],
            "text/plain": [
              "          longitude      latitude  ...  median_income  median_house_value\n",
              "count  17000.000000  17000.000000  ...   17000.000000        17000.000000\n",
              "mean    -119.562108     35.625225  ...       3.883578       207300.912353\n",
              "std        2.005166      2.137340  ...       1.908157       115983.764387\n",
              "min     -124.350000     32.540000  ...       0.499900        14999.000000\n",
              "25%     -121.790000     33.930000  ...       2.566375       119400.000000\n",
              "50%     -118.490000     34.250000  ...       3.544600       180400.000000\n",
              "75%     -118.000000     37.720000  ...       4.767000       265000.000000\n",
              "max     -114.310000     41.950000  ...      15.000100       500001.000000\n",
              "\n",
              "[8 rows x 9 columns]"
            ]
          },
          "metadata": {
            "tags": []
          },
          "execution_count": 8
        }
      ]
    },
    {
      "cell_type": "code",
      "metadata": {
        "id": "1CSglC6cv28b",
        "colab_type": "code",
        "colab": {
          "base_uri": "https://localhost:8080/",
          "height": 288
        },
        "outputId": "46a34515-01e8-4a4c-c204-d67860389ed9"
      },
      "source": [
        "(df_train.describe() - df_test.describe()) / df_train.describe()"
      ],
      "execution_count": 9,
      "outputs": [
        {
          "output_type": "execute_result",
          "data": {
            "text/html": [
              "<div>\n",
              "<style scoped>\n",
              "    .dataframe tbody tr th:only-of-type {\n",
              "        vertical-align: middle;\n",
              "    }\n",
              "\n",
              "    .dataframe tbody tr th {\n",
              "        vertical-align: top;\n",
              "    }\n",
              "\n",
              "    .dataframe thead th {\n",
              "        text-align: right;\n",
              "    }\n",
              "</style>\n",
              "<table border=\"1\" class=\"dataframe\">\n",
              "  <thead>\n",
              "    <tr style=\"text-align: right;\">\n",
              "      <th></th>\n",
              "      <th>longitude</th>\n",
              "      <th>latitude</th>\n",
              "      <th>housing_median_age</th>\n",
              "      <th>total_rooms</th>\n",
              "      <th>total_bedrooms</th>\n",
              "      <th>population</th>\n",
              "      <th>households</th>\n",
              "      <th>median_income</th>\n",
              "      <th>median_house_value</th>\n",
              "    </tr>\n",
              "  </thead>\n",
              "  <tbody>\n",
              "    <tr>\n",
              "      <th>count</th>\n",
              "      <td>0.823529</td>\n",
              "      <td>0.823529</td>\n",
              "      <td>0.823529</td>\n",
              "      <td>0.823529</td>\n",
              "      <td>0.823529</td>\n",
              "      <td>0.823529</td>\n",
              "      <td>0.823529</td>\n",
              "      <td>0.823529</td>\n",
              "      <td>0.823529</td>\n",
              "    </tr>\n",
              "    <tr>\n",
              "      <th>mean</th>\n",
              "      <td>-0.000227</td>\n",
              "      <td>-0.000285</td>\n",
              "      <td>-0.008954</td>\n",
              "      <td>0.016676</td>\n",
              "      <td>0.017538</td>\n",
              "      <td>0.018730</td>\n",
              "      <td>0.022565</td>\n",
              "      <td>0.019648</td>\n",
              "      <td>0.007017</td>\n",
              "    </tr>\n",
              "    <tr>\n",
              "      <th>std</th>\n",
              "      <td>0.005102</td>\n",
              "      <td>0.003589</td>\n",
              "      <td>0.002506</td>\n",
              "      <td>0.011172</td>\n",
              "      <td>0.013867</td>\n",
              "      <td>0.102199</td>\n",
              "      <td>0.049667</td>\n",
              "      <td>0.028113</td>\n",
              "      <td>0.024694</td>\n",
              "    </tr>\n",
              "    <tr>\n",
              "      <th>min</th>\n",
              "      <td>0.001367</td>\n",
              "      <td>-0.000615</td>\n",
              "      <td>0.000000</td>\n",
              "      <td>-2.000000</td>\n",
              "      <td>-1.000000</td>\n",
              "      <td>-0.666667</td>\n",
              "      <td>-1.000000</td>\n",
              "      <td>0.000000</td>\n",
              "      <td>-0.500100</td>\n",
              "    </tr>\n",
              "    <tr>\n",
              "      <th>25%</th>\n",
              "      <td>-0.000164</td>\n",
              "      <td>0.000000</td>\n",
              "      <td>0.000000</td>\n",
              "      <td>0.041724</td>\n",
              "      <td>0.020202</td>\n",
              "      <td>0.012658</td>\n",
              "      <td>0.031915</td>\n",
              "      <td>0.008719</td>\n",
              "      <td>-0.015075</td>\n",
              "    </tr>\n",
              "    <tr>\n",
              "      <th>50%</th>\n",
              "      <td>0.000042</td>\n",
              "      <td>-0.000584</td>\n",
              "      <td>0.000000</td>\n",
              "      <td>0.009873</td>\n",
              "      <td>-0.006912</td>\n",
              "      <td>0.010283</td>\n",
              "      <td>-0.001222</td>\n",
              "      <td>0.016208</td>\n",
              "      <td>0.015244</td>\n",
              "    </tr>\n",
              "    <tr>\n",
              "      <th>75%</th>\n",
              "      <td>-0.000169</td>\n",
              "      <td>0.000795</td>\n",
              "      <td>0.000000</td>\n",
              "      <td>0.007061</td>\n",
              "      <td>0.018897</td>\n",
              "      <td>-0.012638</td>\n",
              "      <td>0.013218</td>\n",
              "      <td>0.023185</td>\n",
              "      <td>0.003868</td>\n",
              "    </tr>\n",
              "    <tr>\n",
              "      <th>max</th>\n",
              "      <td>-0.001575</td>\n",
              "      <td>0.000715</td>\n",
              "      <td>0.000000</td>\n",
              "      <td>0.197354</td>\n",
              "      <td>0.159193</td>\n",
              "      <td>0.665518</td>\n",
              "      <td>0.189411</td>\n",
              "      <td>0.000000</td>\n",
              "      <td>0.000000</td>\n",
              "    </tr>\n",
              "  </tbody>\n",
              "</table>\n",
              "</div>"
            ],
            "text/plain": [
              "       longitude  latitude  ...  median_income  median_house_value\n",
              "count   0.823529  0.823529  ...       0.823529            0.823529\n",
              "mean   -0.000227 -0.000285  ...       0.019648            0.007017\n",
              "std     0.005102  0.003589  ...       0.028113            0.024694\n",
              "min     0.001367 -0.000615  ...       0.000000           -0.500100\n",
              "25%    -0.000164  0.000000  ...       0.008719           -0.015075\n",
              "50%     0.000042 -0.000584  ...       0.016208            0.015244\n",
              "75%    -0.000169  0.000795  ...       0.023185            0.003868\n",
              "max    -0.001575  0.000715  ...       0.000000            0.000000\n",
              "\n",
              "[8 rows x 9 columns]"
            ]
          },
          "metadata": {
            "tags": []
          },
          "execution_count": 9
        }
      ]
    },
    {
      "cell_type": "markdown",
      "metadata": {
        "id": "dqb3T44SHgt2",
        "colab_type": "text"
      },
      "source": [
        "### Check feature/ label dfistributuin"
      ]
    },
    {
      "cell_type": "code",
      "metadata": {
        "id": "viPRnN7Vv225",
        "colab_type": "code",
        "colab": {}
      },
      "source": [
        "import seaborn as sns\n",
        "import matplotlib.pyplot as plt"
      ],
      "execution_count": 0,
      "outputs": []
    },
    {
      "cell_type": "code",
      "metadata": {
        "id": "M8tULMY2DM8X",
        "colab_type": "code",
        "colab": {
          "base_uri": "https://localhost:8080/",
          "height": 280
        },
        "outputId": "52db67f5-f614-40cb-fab0-c6edc98f6005"
      },
      "source": [
        "sns.distplot(df_train['median_house_value'])\n",
        "plt.show()"
      ],
      "execution_count": 11,
      "outputs": [
        {
          "output_type": "display_data",
          "data": {
            "image/png": "[encoded data removed]",
            "text/plain": [
              "<Figure size 432x288 with 1 Axes>"
            ]
          },
          "metadata": {
            "tags": []
          }
        }
      ]
    },
    {
      "cell_type": "markdown",
      "metadata": {
        "id": "gf__-00jzd4H",
        "colab_type": "text"
      },
      "source": [
        "## get X(feature), y(label)"
      ]
    },
    {
      "cell_type": "code",
      "metadata": {
        "id": "bKCdvi_Ev20f",
        "colab_type": "code",
        "colab": {
          "base_uri": "https://localhost:8080/",
          "height": 90
        },
        "outputId": "84d4c09e-ca19-4fd9-d60b-07024be54be9"
      },
      "source": [
        "print(df_train.columns)"
      ],
      "execution_count": 12,
      "outputs": [
        {
          "output_type": "stream",
          "text": [
            "Index(['longitude', 'latitude', 'housing_median_age', 'total_rooms',\n",
            "       'total_bedrooms', 'population', 'households', 'median_income',\n",
            "       'median_house_value'],\n",
            "      dtype='object')\n"
          ],
          "name": "stdout"
        }
      ]
    },
    {
      "cell_type": "code",
      "metadata": {
        "id": "UUewPA19traQ",
        "colab_type": "code",
        "colab": {}
      },
      "source": [
        "### impliment your code here: ###\n",
        "\n",
        "# take first 8 columns as features\n",
        "x_train = df_train.iloc[:, :-1] \n",
        "\n",
        "# take \"median_house_value\" as label\n",
        "y_train = df_train.iloc[:, -1] \n",
        "\n",
        "x_test = df_test.iloc[:, :-1]\n",
        "y_test = df_test.iloc[:, -1]\n",
        "\n",
        "### impliment your code here: ###"
      ],
      "execution_count": 0,
      "outputs": []
    },
    {
      "cell_type": "markdown",
      "metadata": {
        "id": "FnPXTLsiMS9G",
        "colab_type": "text"
      },
      "source": [
        "# Linear Regression"
      ]
    },
    {
      "cell_type": "markdown",
      "metadata": {
        "id": "kbcsyRHgUXS4",
        "colab_type": "text"
      },
      "source": [
        "![alt text](https://drive.google.com/uc?id=1wKQnzjZ1gHBcpMbv8HogGyE0EkjCvwFL)\n",
        "\n",
        "reference: Jessee Kung 2019/4/10 (https://sites.google.com/view/tu-ad1062-mlfundamentals/)"
      ]
    },
    {
      "cell_type": "code",
      "metadata": {
        "id": "-kGo2alZUYjj",
        "colab_type": "code",
        "colab": {}
      },
      "source": [
        ""
      ],
      "execution_count": 0,
      "outputs": []
    },
    {
      "cell_type": "markdown",
      "metadata": {
        "id": "Qyy-6PR2VMPG",
        "colab_type": "text"
      },
      "source": [
        "## Gradient Descent Solver(Optimizer)"
      ]
    },
    {
      "cell_type": "markdown",
      "metadata": {
        "id": "xSb_yBW4a5yB",
        "colab_type": "text"
      },
      "source": [
        "\n",
        "### loss function (which we want to minimize)"
      ]
    },
    {
      "cell_type": "markdown",
      "metadata": {
        "id": "DOweudL8bNxD",
        "colab_type": "text"
      },
      "source": [
        "![alt text](https://drive.google.com/uc?id=1rhRQyxRwvSQ3pIc_oBwCcatBz-gO4uSY)\n",
        "\n",
        "m: number of samples"
      ]
    },
    {
      "cell_type": "markdown",
      "metadata": {
        "id": "kZQ0XitXbYp2",
        "colab_type": "text"
      },
      "source": [
        "### optimize"
      ]
    },
    {
      "cell_type": "markdown",
      "metadata": {
        "id": "mrD_pnfzcQH2",
        "colab_type": "text"
      },
      "source": [
        "![alt text](https://drive.google.com/uc?id=1IwVWD8JeBvh34fNobAsShBtjSxc7cFVM)"
      ]
    },
    {
      "cell_type": "markdown",
      "metadata": {
        "id": "KOZXNOW9ck_U",
        "colab_type": "text"
      },
      "source": [
        "### mathematical intuition"
      ]
    },
    {
      "cell_type": "markdown",
      "metadata": {
        "id": "zlsVaBEIcafs",
        "colab_type": "text"
      },
      "source": [
        "![alt text](https://drive.google.com/uc?id=1AOXqZfhCQqJnkEd5be8inqnY1dfWWKEQ)"
      ]
    },
    {
      "cell_type": "markdown",
      "metadata": {
        "id": "CyQB-h6wIFx3",
        "colab_type": "text"
      },
      "source": [
        "# Simplified Gradient Descent Linear Regression Model as COde"
      ]
    },
    {
      "cell_type": "code",
      "metadata": {
        "id": "saz-y4DsnR-K",
        "colab_type": "code",
        "colab": {}
      },
      "source": [
        "import math # for checking \"float('inf')\" and float('nan')\n",
        "\n",
        "class GDRegressor:\n",
        "\n",
        "    def __init__(self, lr=0.1, it=10000):\n",
        "        self.w = None\n",
        "        self.b = None\n",
        "        self.lr = lr\n",
        "        self.iteration = it\n",
        "\n",
        "    def fit(self, x, y):\n",
        "        x = np.array(x)\n",
        "        y = np.array(y)\n",
        "        losses = list()\n",
        "        \n",
        "        m, n = x.shape\n",
        "        self.w = np.zeros([n])\n",
        "        self.b = 0\n",
        "\n",
        "        for _ in range(self.iteration):\n",
        "            _y = self.predict(x)\n",
        "            \n",
        "            loss = (1 / (2*m)) * np.sum(np.square(_y - y))\n",
        "            assert not math.isnan(loss)\n",
        "            assert not math.isinf(loss)\n",
        "            losses.append(loss)\n",
        "\n",
        "            dw = (1 / m) * np.dot(_y - y, x) # dw = d(loss)/dw\n",
        "            db = (1 / m) * np.sum(_y - y) # db = d(loss)/db\n",
        "\n",
        "            self.w -= self.lr * dw\n",
        "            self.b -= self.lr * db\n",
        "        # return losses\n",
        "\n",
        "    def predict(self, x):\n",
        "        assert self.w is not None\n",
        "        assert self.b is not None\n",
        "        return np.dot(self.w, x.T) + self.b\n"
      ],
      "execution_count": 0,
      "outputs": []
    },
    {
      "cell_type": "code",
      "metadata": {
        "id": "JHT688Raz5Ly",
        "colab_type": "code",
        "colab": {}
      },
      "source": [
        "reg = GDRegressor()"
      ],
      "execution_count": 0,
      "outputs": []
    },
    {
      "cell_type": "code",
      "metadata": {
        "id": "Hk2PJduBnUkB",
        "colab_type": "code",
        "colab": {
          "base_uri": "https://localhost:8080/",
          "height": 353
        },
        "outputId": "2e0ba977-15ce-4ac6-b7ff-4c390e8ae875"
      },
      "source": [
        "reg.fit(x_train, y_train)"
      ],
      "execution_count": 16,
      "outputs": [
        {
          "output_type": "stream",
          "text": [
            "/usr/local/lib/python3.6/dist-packages/ipykernel_launcher.py:23: RuntimeWarning: overflow encountered in square\n",
            "/usr/local/lib/python3.6/dist-packages/numpy/core/fromnumeric.py:90: RuntimeWarning: overflow encountered in reduce\n",
            "  return ufunc.reduce(obj, axis, dtype, out, **passkwargs)\n"
          ],
          "name": "stderr"
        },
        {
          "output_type": "error",
          "ename": "AssertionError",
          "evalue": "ignored",
          "traceback": [
            "\u001b[0;31m---------------------------------------------------------------------------\u001b[0m",
            "\u001b[0;31mAssertionError\u001b[0m                            Traceback (most recent call last)",
            "\u001b[0;32m<ipython-input-16-5a20250c8647>\u001b[0m in \u001b[0;36m<module>\u001b[0;34m()\u001b[0m\n\u001b[0;32m----> 1\u001b[0;31m \u001b[0mreg\u001b[0m\u001b[0;34m.\u001b[0m\u001b[0mfit\u001b[0m\u001b[0;34m(\u001b[0m\u001b[0mx_train\u001b[0m\u001b[0;34m,\u001b[0m \u001b[0my_train\u001b[0m\u001b[0;34m)\u001b[0m\u001b[0;34m\u001b[0m\u001b[0;34m\u001b[0m\u001b[0m\n\u001b[0m",
            "\u001b[0;32m<ipython-input-14-defeb8b23210>\u001b[0m in \u001b[0;36mfit\u001b[0;34m(self, x, y)\u001b[0m\n\u001b[1;32m     23\u001b[0m             \u001b[0mloss\u001b[0m \u001b[0;34m=\u001b[0m \u001b[0;34m(\u001b[0m\u001b[0;36m1\u001b[0m \u001b[0;34m/\u001b[0m \u001b[0;34m(\u001b[0m\u001b[0;36m2\u001b[0m\u001b[0;34m*\u001b[0m\u001b[0mm\u001b[0m\u001b[0;34m)\u001b[0m\u001b[0;34m)\u001b[0m \u001b[0;34m*\u001b[0m \u001b[0mnp\u001b[0m\u001b[0;34m.\u001b[0m\u001b[0msum\u001b[0m\u001b[0;34m(\u001b[0m\u001b[0mnp\u001b[0m\u001b[0;34m.\u001b[0m\u001b[0msquare\u001b[0m\u001b[0;34m(\u001b[0m\u001b[0m_y\u001b[0m \u001b[0;34m-\u001b[0m \u001b[0my\u001b[0m\u001b[0;34m)\u001b[0m\u001b[0;34m)\u001b[0m\u001b[0;34m\u001b[0m\u001b[0;34m\u001b[0m\u001b[0m\n\u001b[1;32m     24\u001b[0m             \u001b[0;32massert\u001b[0m \u001b[0;32mnot\u001b[0m \u001b[0mmath\u001b[0m\u001b[0;34m.\u001b[0m\u001b[0misnan\u001b[0m\u001b[0;34m(\u001b[0m\u001b[0mloss\u001b[0m\u001b[0;34m)\u001b[0m\u001b[0;34m\u001b[0m\u001b[0;34m\u001b[0m\u001b[0m\n\u001b[0;32m---> 25\u001b[0;31m             \u001b[0;32massert\u001b[0m \u001b[0;32mnot\u001b[0m \u001b[0mmath\u001b[0m\u001b[0;34m.\u001b[0m\u001b[0misinf\u001b[0m\u001b[0;34m(\u001b[0m\u001b[0mloss\u001b[0m\u001b[0;34m)\u001b[0m\u001b[0;34m\u001b[0m\u001b[0;34m\u001b[0m\u001b[0m\n\u001b[0m\u001b[1;32m     26\u001b[0m             \u001b[0mlosses\u001b[0m\u001b[0;34m.\u001b[0m\u001b[0mappend\u001b[0m\u001b[0;34m(\u001b[0m\u001b[0mloss\u001b[0m\u001b[0;34m)\u001b[0m\u001b[0;34m\u001b[0m\u001b[0;34m\u001b[0m\u001b[0m\n\u001b[1;32m     27\u001b[0m \u001b[0;34m\u001b[0m\u001b[0m\n",
            "\u001b[0;31mAssertionError\u001b[0m: "
          ]
        }
      ]
    },
    {
      "cell_type": "code",
      "metadata": {
        "id": "F0TQ1wm51gZB",
        "colab_type": "code",
        "colab": {}
      },
      "source": [
        ""
      ],
      "execution_count": 0,
      "outputs": []
    },
    {
      "cell_type": "markdown",
      "metadata": {
        "id": "Yeq4eKrN1V2a",
        "colab_type": "text"
      },
      "source": [
        "# OMG We got error! \n",
        "# Why?"
      ]
    },
    {
      "cell_type": "markdown",
      "metadata": {
        "id": "dE1tWQyu1pSe",
        "colab_type": "text"
      },
      "source": [
        "## Normalization"
      ]
    },
    {
      "cell_type": "markdown",
      "metadata": {
        "id": "iVi3-7Eod3z0",
        "colab_type": "text"
      },
      "source": [
        "![alt text](https://drive.google.com/uc?id=1RBHOQ1ZxVDqtElJR7tuB7AbLL0bmRJ8U)\n",
        "reference: Jessee Kung 2019/4/3 (https://sites.google.com/view/tu-ad1062-mlfundamentals/)"
      ]
    },
    {
      "cell_type": "code",
      "metadata": {
        "id": "Hf20wB0gK1kQ",
        "colab_type": "code",
        "colab": {}
      },
      "source": [
        "from sklearn.preprocessing import StandardScaler\n",
        "normalizer = StandardScaler() # https://scikit-learn.org/stable/modules/generated/sklearn.preprocessing.StandardScaler.html"
      ],
      "execution_count": 0,
      "outputs": []
    },
    {
      "cell_type": "markdown",
      "metadata": {
        "id": "62Z7XYpKKpKH",
        "colab_type": "text"
      },
      "source": [
        "Fit and Normalize the trainingset"
      ]
    },
    {
      "cell_type": "code",
      "metadata": {
        "id": "xsnYBoz-1431",
        "colab_type": "code",
        "colab": {}
      },
      "source": [
        "### impliment your code here: ###\n",
        "\n",
        "normalizer.fit(x_train)\n",
        "x_train_norm = normalizer.transform(x_train)\n",
        "\n",
        "# x_train_norm = normalizer.fit_transform(x_train)\n",
        "### impliment your code here: ###"
      ],
      "execution_count": 0,
      "outputs": []
    },
    {
      "cell_type": "markdown",
      "metadata": {
        "id": "iGnwYGY9K4qK",
        "colab_type": "text"
      },
      "source": [
        "Fit(train) the model"
      ]
    },
    {
      "cell_type": "code",
      "metadata": {
        "id": "PCu1UGB31nF1",
        "colab_type": "code",
        "colab": {}
      },
      "source": [
        "### impliment your code here: ###\n",
        "\n",
        "\n",
        "reg.fit(x_train_norm, y_train)\n",
        "\n",
        "### impliment your code here: ###"
      ],
      "execution_count": 0,
      "outputs": []
    },
    {
      "cell_type": "markdown",
      "metadata": {
        "id": "YXIFlEtEK9PF",
        "colab_type": "text"
      },
      "source": [
        "Inference(predict)"
      ]
    },
    {
      "cell_type": "code",
      "metadata": {
        "id": "VOamRTCk1VRG",
        "colab_type": "code",
        "colab": {}
      },
      "source": [
        "x_test_norm = normalizer.transform(x_test)\n",
        "y_predict = reg.predict(x_test_norm)"
      ],
      "execution_count": 0,
      "outputs": []
    },
    {
      "cell_type": "code",
      "metadata": {
        "id": "WYsh79LsbyZt",
        "colab_type": "code",
        "colab": {
          "base_uri": "https://localhost:8080/",
          "height": 35
        },
        "outputId": "34045bc2-59ee-4259-d4be-711e69c7ddd4"
      },
      "source": [
        "y_predict.shape"
      ],
      "execution_count": 21,
      "outputs": [
        {
          "output_type": "execute_result",
          "data": {
            "text/plain": [
              "(3000,)"
            ]
          },
          "metadata": {
            "tags": []
          },
          "execution_count": 21
        }
      ]
    },
    {
      "cell_type": "markdown",
      "metadata": {
        "id": "DRzqd2BxLp0H",
        "colab_type": "text"
      },
      "source": [
        "# Common Regression Metrics"
      ]
    },
    {
      "cell_type": "markdown",
      "metadata": {
        "id": "BYBtCVbYjAbC",
        "colab_type": "text"
      },
      "source": [
        "![alt text](https://drive.google.com/uc?id=1g-YNX3HW0_7qXMfX7squ93pGKLMZqErk)"
      ]
    },
    {
      "cell_type": "markdown",
      "metadata": {
        "id": "kIMTj3r9jOx9",
        "colab_type": "text"
      },
      "source": [
        "# Q: would you take 1-|MAPE| or 1-|MPE| as your scoring function?"
      ]
    },
    {
      "cell_type": "code",
      "metadata": {
        "id": "Llc5oyRAKG-H",
        "colab_type": "code",
        "colab": {}
      },
      "source": [
        "from sklearn.metrics import mean_absolute_error, mean_squared_error\n",
        "\n",
        "def mean_absolute_percentage_error(y_true, y_pred): \n",
        "    y_true, y_pred = np.array(y_true), np.array(y_pred)\n",
        "    return np.mean(np.abs((y_true - y_pred) / y_true)) * 100\n",
        "\n",
        "def mean_percentage_error(y_true, y_pred): \n",
        "    y_true, y_pred = np.array(y_true), np.array(y_pred)\n",
        "    return np.mean((y_true - y_pred) / y_true) * 100"
      ],
      "execution_count": 0,
      "outputs": []
    },
    {
      "cell_type": "code",
      "metadata": {
        "id": "5cftOrO0epuh",
        "colab_type": "code",
        "colab": {
          "base_uri": "https://localhost:8080/",
          "height": 90
        },
        "outputId": "9de1d46b-3e4d-4a54-9f09-64a0742f799e"
      },
      "source": [
        "for metrix in [mean_absolute_error, mean_squared_error, mean_absolute_percentage_error, mean_percentage_error]:\n",
        "    print('{}: {}'.format(metrix.__name__, metrix(y_test, y_predict)))"
      ],
      "execution_count": 23,
      "outputs": [
        {
          "output_type": "stream",
          "text": [
            "mean_absolute_error: 50352.22820302147\n",
            "mean_squared_error: 4867205480.273812\n",
            "mean_absolute_percentage_error: 29.7298740226202\n",
            "mean_percentage_error: -10.419872284016803\n"
          ],
          "name": "stdout"
        }
      ]
    },
    {
      "cell_type": "markdown",
      "metadata": {
        "id": "4f5jZgyDIkfR",
        "colab_type": "text"
      },
      "source": [
        "# Other common algorithms"
      ]
    },
    {
      "cell_type": "code",
      "metadata": {
        "id": "UpB2b7_aGpTn",
        "colab_type": "code",
        "colab": {}
      },
      "source": [
        "from sklearn.linear_model import LinearRegression\n",
        "from sklearn.svm import SVR, LinearSVR\n",
        "from sklearn.linear_model import SGDRegressor\n",
        "from sklearn.neural_network import MLPRegressor"
      ],
      "execution_count": 0,
      "outputs": []
    },
    {
      "cell_type": "code",
      "metadata": {
        "id": "56MqX0NC0_ib",
        "colab_type": "code",
        "outputId": "4b600900-0fa5-4c78-cde8-3db0e15cbe1a",
        "colab": {
          "base_uri": "https://localhost:8080/",
          "height": 199
        }
      },
      "source": [
        "reg = SGDRegressor(alpha=0.0001, average=False, early_stopping=False, epsilon=0.1,\n",
        "                   eta0=0.1, fit_intercept=True, l1_ratio=0.1,\n",
        "                   learning_rate='invscaling', loss='squared_loss', max_iter=1000,\n",
        "                   n_iter_no_change=5, penalty='l2', power_t=0.25, random_state=None,\n",
        "                   shuffle=True, tol=0.01, validation_fraction=0.1, verbose=0,\n",
        "                   warm_start=False)\n",
        "reg.fit(normalizer.fit_transform(x_train), y_train)\n",
        "y_predict = reg.predict(normalizer.transform(x_test))\n",
        "\n",
        "print(reg)\n",
        "for metrix in [mean_absolute_error, mean_squared_error, mean_absolute_percentage_error, mean_percentage_error]:\n",
        "    print('{}: {}'.format(metrix.__name__, metrix(y_test, y_predict)))"
      ],
      "execution_count": 25,
      "outputs": [
        {
          "output_type": "stream",
          "text": [
            "SGDRegressor(alpha=0.0001, average=False, early_stopping=False, epsilon=0.1,\n",
            "             eta0=0.1, fit_intercept=True, l1_ratio=0.1,\n",
            "             learning_rate='invscaling', loss='squared_loss', max_iter=1000,\n",
            "             n_iter_no_change=5, penalty='l2', power_t=0.25, random_state=None,\n",
            "             shuffle=True, tol=0.01, validation_fraction=0.1, verbose=0,\n",
            "             warm_start=False)\n",
            "mean_absolute_error: 51893.10252530703\n",
            "mean_squared_error: 4968857952.405462\n",
            "mean_absolute_percentage_error: 31.253260766032774\n",
            "mean_percentage_error: -11.213692001145144\n"
          ],
          "name": "stdout"
        }
      ]
    },
    {
      "cell_type": "code",
      "metadata": {
        "id": "nQX_0qZnju6N",
        "colab_type": "code",
        "colab": {
          "base_uri": "https://localhost:8080/",
          "height": 199
        },
        "outputId": "6f2a566d-108b-4e43-fe2d-3fabe969a73e"
      },
      "source": [
        "reg = SGDRegressor()\n",
        "reg.fit(normalizer.fit_transform(x_train), y_train)\n",
        "y_predict = reg.predict(normalizer.transform(x_test))\n",
        "\n",
        "print(reg)\n",
        "for metrix in [mean_absolute_error, mean_squared_error, mean_absolute_percentage_error, mean_percentage_error]:\n",
        "    print('{}: {}'.format(metrix.__name__, metrix(y_test, y_predict)))"
      ],
      "execution_count": 26,
      "outputs": [
        {
          "output_type": "stream",
          "text": [
            "SGDRegressor(alpha=0.0001, average=False, early_stopping=False, epsilon=0.1,\n",
            "             eta0=0.01, fit_intercept=True, l1_ratio=0.15,\n",
            "             learning_rate='invscaling', loss='squared_loss', max_iter=1000,\n",
            "             n_iter_no_change=5, penalty='l2', power_t=0.25, random_state=None,\n",
            "             shuffle=True, tol=0.001, validation_fraction=0.1, verbose=0,\n",
            "             warm_start=False)\n",
            "mean_absolute_error: 50319.61730476265\n",
            "mean_squared_error: 4869011852.004486\n",
            "mean_absolute_percentage_error: 29.71867813334128\n",
            "mean_percentage_error: -10.600551821298183\n"
          ],
          "name": "stdout"
        }
      ]
    },
    {
      "cell_type": "markdown",
      "metadata": {
        "id": "Aa30tJ892jDe",
        "colab_type": "text"
      },
      "source": [
        "# Scoreing"
      ]
    },
    {
      "cell_type": "code",
      "metadata": {
        "id": "VKeYqCMsj-tM",
        "colab_type": "code",
        "colab": {
          "base_uri": "https://localhost:8080/",
          "height": 135
        },
        "outputId": "0b8daf18-1c41-4efd-b053-5f4858f286d4"
      },
      "source": [
        "### impliment your code here: ###\n",
        "\n",
        "your_reg = \n",
        "your_reg.fit\n",
        "y_predict = reg.predict\n",
        "\n",
        "### impliment your code here: ###"
      ],
      "execution_count": 27,
      "outputs": [
        {
          "output_type": "error",
          "ename": "SyntaxError",
          "evalue": "ignored",
          "traceback": [
            "\u001b[0;36m  File \u001b[0;32m\"<ipython-input-27-5f6487015f11>\"\u001b[0;36m, line \u001b[0;32m2\u001b[0m\n\u001b[0;31m    your_reg =\u001b[0m\n\u001b[0m               ^\u001b[0m\n\u001b[0;31mSyntaxError\u001b[0m\u001b[0;31m:\u001b[0m invalid syntax\n"
          ]
        }
      ]
    },
    {
      "cell_type": "code",
      "metadata": {
        "id": "hKUu7mWFhH9c",
        "colab_type": "code",
        "colab": {
          "base_uri": "https://localhost:8080/",
          "height": 199
        },
        "outputId": "625b5b98-339c-40af-f090-b8d521365f23"
      },
      "source": [
        "print(reg)\n",
        "for metrix in [mean_absolute_error, mean_squared_error, mean_absolute_percentage_error, mean_percentage_error]:\n",
        "    print('{}: {}'.format(metrix.__name__, metrix(y_test, y_predict)))"
      ],
      "execution_count": 28,
      "outputs": [
        {
          "output_type": "stream",
          "text": [
            "SGDRegressor(alpha=0.0001, average=False, early_stopping=False, epsilon=0.1,\n",
            "             eta0=0.01, fit_intercept=True, l1_ratio=0.15,\n",
            "             learning_rate='invscaling', loss='squared_loss', max_iter=1000,\n",
            "             n_iter_no_change=5, penalty='l2', power_t=0.25, random_state=None,\n",
            "             shuffle=True, tol=0.001, validation_fraction=0.1, verbose=0,\n",
            "             warm_start=False)\n",
            "mean_absolute_error: 50319.61730476265\n",
            "mean_squared_error: 4869011852.004486\n",
            "mean_absolute_percentage_error: 29.71867813334128\n",
            "mean_percentage_error: -10.600551821298183\n"
          ],
          "name": "stdout"
        }
      ]
    },
    {
      "cell_type": "code",
      "metadata": {
        "id": "yq2-tH3RJARK",
        "colab_type": "code",
        "colab": {}
      },
      "source": [
        ""
      ],
      "execution_count": 0,
      "outputs": []
    },
    {
      "cell_type": "code",
      "metadata": {
        "id": "JchOtck8JAPa",
        "colab_type": "code",
        "colab": {}
      },
      "source": [
        ""
      ],
      "execution_count": 0,
      "outputs": []
    },
    {
      "cell_type": "code",
      "metadata": {
        "id": "yQye1FvxC2gS",
        "colab_type": "code",
        "colab": {}
      },
      "source": [
        ""
      ],
      "execution_count": 0,
      "outputs": []
    },
    {
      "cell_type": "code",
      "metadata": {
        "id": "jI-unnlEK0En",
        "colab_type": "code",
        "colab": {}
      },
      "source": [
        ""
      ],
      "execution_count": 0,
      "outputs": []
    },
    {
      "cell_type": "code",
      "metadata": {
        "id": "XWuN65Zki-9m",
        "colab_type": "code",
        "colab": {}
      },
      "source": [
        ""
      ],
      "execution_count": 0,
      "outputs": []
    },
    {
      "cell_type": "code",
      "metadata": {
        "id": "OdGuN7gcjMAG",
        "colab_type": "code",
        "colab": {}
      },
      "source": [
        ""
      ],
      "execution_count": 0,
      "outputs": []
    },
    {
      "cell_type": "code",
      "metadata": {
        "id": "xNVfEXkIj8yU",
        "colab_type": "code",
        "colab": {}
      },
      "source": [
        ""
      ],
      "execution_count": 0,
      "outputs": []
    }
  ]
}
