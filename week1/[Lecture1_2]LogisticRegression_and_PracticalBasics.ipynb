{
  "nbformat": 4,
  "nbformat_minor": 0,
  "metadata": {
    "colab": {
      "name": "[Lecture1-2]LogisticRegression_and_PracticalBasics.ipynb",
      "provenance": [],
      "collapsed_sections": [],
      "machine_shape": "hm"
    },
    "kernelspec": {
      "name": "python3",
      "display_name": "Python 3"
    }
  },
  "cells": [
    {
      "cell_type": "markdown",
      "metadata": {
        "id": "HbOv4asy8huj",
        "colab_type": "text"
      },
      "source": [
        "# Lecture 1-2: Logistic Regression (for classification)"
      ]
    },
    {
      "cell_type": "markdown",
      "metadata": {
        "id": "B8kESeDfoRqA",
        "colab_type": "text"
      },
      "source": [
        ".### impliment here: ###\n",
        "\n",
        "## 0. Kaggle Glace https://www.kaggle.com\n",
        "## 1. Apply Your Kaggle Account \n",
        "## 2. Get the API key(kaggle.json) and upload\n",
        "\n",
        "\n",
        ".### impliment here: ###"
      ]
    },
    {
      "cell_type": "markdown",
      "metadata": {
        "id": "R9dMK_iarA3J",
        "colab_type": "text"
      },
      "source": [
        "### Place your Kaggle API key properly"
      ]
    },
    {
      "cell_type": "code",
      "metadata": {
        "id": "Jqcrs6Q8omit",
        "colab_type": "code",
        "colab": {}
      },
      "source": [
        "!mkdir -p ~/.kaggle\n",
        "!cp kaggle.json ~/.kaggle/\n",
        "!chmod 600 /root/.kaggle/kaggle.json"
      ],
      "execution_count": 0,
      "outputs": []
    },
    {
      "cell_type": "markdown",
      "metadata": {
        "id": "3S5maDyztO89",
        "colab_type": "text"
      },
      "source": [
        "### download dataset by API for https://www.kaggle.com/tongpython/cat-and-dog"
      ]
    },
    {
      "cell_type": "code",
      "metadata": {
        "id": "TQtIJwJgo6A5",
        "colab_type": "code",
        "colab": {}
      },
      "source": [
        "### impliment your code here: ###\n",
        "\n",
        "!kaggle datasets download -d \n",
        "\n",
        "### impliment your code here: ###"
      ],
      "execution_count": 0,
      "outputs": []
    },
    {
      "cell_type": "markdown",
      "metadata": {
        "id": "D72oJDFotkFC",
        "colab_type": "text"
      },
      "source": [
        "### decompress the dataset -> jpgs"
      ]
    },
    {
      "cell_type": "code",
      "metadata": {
        "id": "zV-X3HTlpEXi",
        "colab_type": "code",
        "colab": {}
      },
      "source": [
        "!unzip cat-and-dog.zip"
      ],
      "execution_count": 0,
      "outputs": []
    },
    {
      "cell_type": "markdown",
      "metadata": {
        "id": "O13CWSp4vzwt",
        "colab_type": "text"
      },
      "source": [
        "### Libraies"
      ]
    },
    {
      "cell_type": "code",
      "metadata": {
        "id": "m44iB6VjQrz9",
        "colab_type": "code",
        "colab": {}
      },
      "source": [
        "import os\n",
        "from collections import Counter\n",
        "\n",
        "import sklearn\n",
        "import numpy as np\n",
        "import pandas as pd\n",
        "\n",
        "import cv2\n",
        "import matplotlib.pyplot as plt"
      ],
      "execution_count": 0,
      "outputs": []
    },
    {
      "cell_type": "markdown",
      "metadata": {
        "id": "nA4i_fGKv-E6",
        "colab_type": "text"
      },
      "source": [
        "### parse images into DataFrame"
      ]
    },
    {
      "cell_type": "code",
      "metadata": {
        "id": "0vHkpkGGQ05L",
        "colab_type": "code",
        "colab": {}
      },
      "source": [
        "def dataset_parse(folders, size=(32, 32)):\n",
        "    \n",
        "    if isinstance(folders, str):\n",
        "        folders = [folders, ]\n",
        "\n",
        "    features = list()\n",
        "    labels = list()\n",
        "\n",
        "    for folder in folders:\n",
        "        for root, dirs, files in os.walk(folder):\n",
        "            for f in filter(lambda x: x.endswith('.jpg'), files):\n",
        "                img = cv2.resize(cv2.imread(os.path.join(root, f)), size)\n",
        "                label = os.path.basename(root)\n",
        "                \n",
        "                labels.append(label)\n",
        "                features.append(img)\n",
        "\n",
        "    df = pd.DataFrame({'img':features, 'category': labels})\n",
        "    df = df.sample(n=len(df), random_state=0) # shuffle\n",
        "    df.reset_index(drop=True, inplace=True)\n",
        "    return df"
      ],
      "execution_count": 0,
      "outputs": []
    },
    {
      "cell_type": "code",
      "metadata": {
        "id": "Nt9N39S86wBJ",
        "colab_type": "code",
        "colab": {}
      },
      "source": [
        "data_test ='test_set/test_set/'\n",
        "data_train ='training_set/training_set/'"
      ],
      "execution_count": 0,
      "outputs": []
    },
    {
      "cell_type": "markdown",
      "metadata": {
        "id": "mqcCYWcGwJSO",
        "colab_type": "text"
      },
      "source": [
        "# In this Task, we merge original train & test set and split by requirement(you can deside depends on the task)"
      ]
    },
    {
      "cell_type": "code",
      "metadata": {
        "id": "hZ25HviVQ071",
        "colab_type": "code",
        "colab": {}
      },
      "source": [
        "df = dataset_parse([data_train, data_test], size=(32,32))"
      ],
      "execution_count": 0,
      "outputs": []
    },
    {
      "cell_type": "markdown",
      "metadata": {
        "id": "nI_Z_bFqwxyB",
        "colab_type": "text"
      },
      "source": [
        "# Glace of the data"
      ]
    },
    {
      "cell_type": "code",
      "metadata": {
        "id": "NI5v-IArQ1Ag",
        "colab_type": "code",
        "colab": {}
      },
      "source": [
        "df.head(5)"
      ],
      "execution_count": 0,
      "outputs": []
    },
    {
      "cell_type": "code",
      "metadata": {
        "id": "ZsCu1CGActgV",
        "colab_type": "code",
        "colab": {}
      },
      "source": [
        "Counter(df['category'])"
      ],
      "execution_count": 0,
      "outputs": []
    },
    {
      "cell_type": "code",
      "metadata": {
        "id": "i9u8417WvIpC",
        "colab_type": "code",
        "colab": {}
      },
      "source": [
        "index = 0\n",
        "df['img'][index]"
      ],
      "execution_count": 0,
      "outputs": []
    },
    {
      "cell_type": "code",
      "metadata": {
        "id": "Mp-NkNXjct1Q",
        "colab_type": "code",
        "colab": {}
      },
      "source": [
        "index = 0\n",
        "print('This is an image of \"{}\" as size: {}'.format(df['category'][index], df['img'][index].shape))\n",
        "plt.imshow(df['img'][index])\n",
        "plt.show()"
      ],
      "execution_count": 0,
      "outputs": []
    },
    {
      "cell_type": "code",
      "metadata": {
        "id": "PEPYlNu6ctq5",
        "colab_type": "code",
        "colab": {}
      },
      "source": [
        "print('max value if the dataset: {}'.format(np.max(np.concatenate(df['img'].values))))\n",
        "print('min value if the dataset: {}'.format(np.min(np.concatenate(df['img'].values))))"
      ],
      "execution_count": 0,
      "outputs": []
    },
    {
      "cell_type": "markdown",
      "metadata": {
        "id": "oZD6K3uIxkpj",
        "colab_type": "text"
      },
      "source": [
        "### We don't know how to process array yet. So we convert array into vactor with definded order."
      ]
    },
    {
      "cell_type": "code",
      "metadata": {
        "id": "BgAL1sAWctkc",
        "colab_type": "code",
        "colab": {}
      },
      "source": [
        "df['feature'] = df['img'].apply(lambda x: x.reshape([1, -1]))"
      ],
      "execution_count": 0,
      "outputs": []
    },
    {
      "cell_type": "markdown",
      "metadata": {
        "id": "40kW5rqIyA2T",
        "colab_type": "text"
      },
      "source": [
        "### Normalize the feature (you can try what is the difference)"
      ]
    },
    {
      "cell_type": "code",
      "metadata": {
        "id": "27NErCF4yBwv",
        "colab_type": "code",
        "colab": {}
      },
      "source": [
        "### impliment your code here: ###\n",
        "\n",
        "df['feature'] = df['feature'].apply(lambda x: )\n",
        "\n",
        "### impliment your code here: ###"
      ],
      "execution_count": 0,
      "outputs": []
    },
    {
      "cell_type": "markdown",
      "metadata": {
        "id": "9HB5TDJ7yflh",
        "colab_type": "text"
      },
      "source": [
        "### We don't know how to predict \"text\", so convert cats->1, dogs->0"
      ]
    },
    {
      "cell_type": "code",
      "metadata": {
        "id": "TXSnn2RraAZV",
        "colab_type": "code",
        "colab": {}
      },
      "source": [
        "### impliment your code here: ###\n",
        "\n",
        "df['label'] = df['category'].apply(lambda x: )\n",
        "\n",
        "### impliment your code here: ###"
      ],
      "execution_count": 0,
      "outputs": []
    },
    {
      "cell_type": "markdown",
      "metadata": {
        "id": "jgm23yDpy4CG",
        "colab_type": "text"
      },
      "source": [
        "### train/test split with 80/20%"
      ]
    },
    {
      "cell_type": "code",
      "metadata": {
        "id": "f6e2Covh7BcV",
        "colab_type": "code",
        "colab": {}
      },
      "source": [
        "train_rate = 0.8\n",
        "df_train = df[:int(train_rate * len(df))]\n",
        "df_test = df[int(train_rate * len(df)):]"
      ],
      "execution_count": 0,
      "outputs": []
    },
    {
      "cell_type": "markdown",
      "metadata": {
        "id": "2w6sTxhjy4kV",
        "colab_type": "text"
      },
      "source": [
        "### split feature and label"
      ]
    },
    {
      "cell_type": "code",
      "metadata": {
        "id": "31QLJfu0y6AL",
        "colab_type": "code",
        "colab": {}
      },
      "source": [
        "x_train = np.concatenate(df_train['feature'].values, axis=0)\n",
        "y_train = df_train['label'].values\n",
        "\n",
        "x_test = np.concatenate(df_test['feature'].values, axis=0)\n",
        "y_test = df_test['label'].values"
      ],
      "execution_count": 0,
      "outputs": []
    },
    {
      "cell_type": "markdown",
      "metadata": {
        "id": "BLexeXQF91kT",
        "colab_type": "text"
      },
      "source": [
        "# Logistic Regression"
      ]
    },
    {
      "cell_type": "markdown",
      "metadata": {
        "id": "Wbqt0Qy23RYM",
        "colab_type": "text"
      },
      "source": [
        "![alt text](https://drive.google.com/uc?id=1-LYvA_aT5UpjTAzzIW128XHMcDz0RKCZ)\n",
        "reference: Jessee Kung 2019/4/10 (https://sites.google.com/view/tu-ad1062-mlfundamentals/)"
      ]
    },
    {
      "cell_type": "markdown",
      "metadata": {
        "id": "U-KnKwzm-OEa",
        "colab_type": "text"
      },
      "source": [
        "# f: activation function\n",
        "# we set f(z) = sigmoid(z) for Linear Regression (https://en.wikipedia.org/wiki/Sigmoid_function)"
      ]
    },
    {
      "cell_type": "markdown",
      "metadata": {
        "id": "uUUcOv-2_cAW",
        "colab_type": "text"
      },
      "source": [
        "![alt text](https://drive.google.com/uc?id=1CO5oExjpjal7Mqf2oGrozedmwXBw6Pkk)"
      ]
    },
    {
      "cell_type": "markdown",
      "metadata": {
        "id": "XA_mg5wkAXcH",
        "colab_type": "text"
      },
      "source": [
        "![alt text](https://drive.google.com/uc?id=1pAav0St8ajL7vx0iO1cUb6amV_aD_2Qc)"
      ]
    },
    {
      "cell_type": "code",
      "metadata": {
        "id": "-ttYcvuGxa7B",
        "colab_type": "code",
        "colab": {}
      },
      "source": [
        "class GDLogisticRegression:\n",
        "\n",
        "    def __init__(self, lr=0.03, it=1000):\n",
        "        self.w = None\n",
        "        self.b = None\n",
        "        self.lr = lr\n",
        "        self.iteration = it\n",
        "\n",
        "    @staticmethod\n",
        "    def sigmoid(x):\n",
        "        return 1 / (1 + np.exp(-x))\n",
        "\n",
        "    def fit(self, x, y, verbose=100):\n",
        "        y = np.array(y)\n",
        "        losses = list()\n",
        "        \n",
        "        print(x.shape)\n",
        "        m, n = x.shape\n",
        "        self.w = np.zeros([n])\n",
        "        self.b = 0\n",
        "\n",
        "        for i in range(self.iteration):\n",
        "            _y = self.predict(x)\n",
        "            \n",
        "            loss = (- 1 / m) * np.sum(y*np.log(_y) + (1-y)*np.log(1-_y))\n",
        "            losses.append(loss)\n",
        "\n",
        "            if verbose and not (i%verbose):\n",
        "                print('iteration: {}, training loss: {:.6f}'.format(i, loss))\n",
        "\n",
        "            dw = (1 / m) * np.dot(x.T, (_y - y))\n",
        "            db = np.mean(_y - y)\n",
        "\n",
        "            self.w -= self.lr * dw\n",
        "            self.b -= self.lr * db\n",
        "        # return losses\n",
        "\n",
        "    def predict(self, x, ):\n",
        "        assert self.w is not None\n",
        "        assert self.b is not None\n",
        "        x = np.array(x)\n",
        "        if len(x.shape)==1:\n",
        "            x = np.concatenate(x, axis=0)\n",
        "        return self.sigmoid(np.dot(self.w, x.T) + self.b)\n"
      ],
      "execution_count": 0,
      "outputs": []
    },
    {
      "cell_type": "markdown",
      "metadata": {
        "id": "i7NsXK4u3TAN",
        "colab_type": "text"
      },
      "source": [
        "## trainning"
      ]
    },
    {
      "cell_type": "code",
      "metadata": {
        "id": "mCeCfuH_aAYF",
        "colab_type": "code",
        "colab": {}
      },
      "source": [
        "clf = GDLogisticRegression(lr=0.01)"
      ],
      "execution_count": 0,
      "outputs": []
    },
    {
      "cell_type": "code",
      "metadata": {
        "id": "g9HYypBv9n9a",
        "colab_type": "code",
        "colab": {}
      },
      "source": [
        "clf.fit(x_train, y_train)"
      ],
      "execution_count": 0,
      "outputs": []
    },
    {
      "cell_type": "code",
      "metadata": {
        "id": "ieuQmMfK2fny",
        "colab_type": "code",
        "colab": {}
      },
      "source": [
        "def binarize_predict(_y_pred, thresh=0.5):\n",
        "    return (_y_pred > thresh).astype(int)"
      ],
      "execution_count": 0,
      "outputs": []
    },
    {
      "cell_type": "code",
      "metadata": {
        "id": "5_Zz9E1yaAT1",
        "colab_type": "code",
        "colab": {}
      },
      "source": [
        "from sklearn.metrics import accuracy_score\n",
        "\n",
        "y_pred_train = binarize_predict(clf.predict(x_train))\n",
        "accuracy_train = accuracy_score(y_pred_train, y_train)\n",
        "\n",
        "y_pred_test = binarize_predict(clf.predict(x_test))\n",
        "accuracy_test = accuracy_score(y_pred_test, y_test)\n",
        "\n",
        "print(clf)\n",
        "print('training accuracy: {:4f}, testing accuracy: {:4f}'.format(accuracy_train, accuracy_test))"
      ],
      "execution_count": 0,
      "outputs": []
    },
    {
      "cell_type": "markdown",
      "metadata": {
        "id": "8w6Q84Xr7gwO",
        "colab_type": "text"
      },
      "source": [
        "### training a sklearn model"
      ]
    },
    {
      "cell_type": "code",
      "metadata": {
        "id": "T2JedL_9YY8y",
        "colab_type": "code",
        "colab": {}
      },
      "source": [
        "from sklearn.linear_model import SGDClassifier"
      ],
      "execution_count": 0,
      "outputs": []
    },
    {
      "cell_type": "code",
      "metadata": {
        "id": "vA7HMlbhYY8C",
        "colab_type": "code",
        "colab": {}
      },
      "source": [
        "clf = SGDClassifier(alpha=0.0001, average=False, class_weight=None,\n",
        "                    early_stopping=False, epsilon=0.1, eta0=0.1, fit_intercept=True,\n",
        "                    l1_ratio=0.15, learning_rate='constant', loss='log',\n",
        "                    max_iter=1000, n_iter_no_change=5, n_jobs=None, penalty='l2',\n",
        "                    power_t=0.5, random_state=None, shuffle=True, tol=0.001,\n",
        "                    validation_fraction=0.1, verbose=0, warm_start=False)\n",
        "clf.fit(x_train, y_train)\n",
        "accuracy_train = accuracy_score(binarize_predict(clf.predict(x_train)), y_train)\n",
        "accuracy_test = accuracy_score(binarize_predict(clf.predict(x_test)), y_test)\n",
        "\n",
        "print('training accuracy: {:4f}, testing accuracy: {:4f}'.format(accuracy_train, accuracy_test))"
      ],
      "execution_count": 0,
      "outputs": []
    },
    {
      "cell_type": "code",
      "metadata": {
        "id": "VBcHDSCc5WUa",
        "colab_type": "code",
        "colab": {}
      },
      "source": [
        ""
      ],
      "execution_count": 0,
      "outputs": []
    },
    {
      "cell_type": "markdown",
      "metadata": {
        "id": "PjD-m70D5W7D",
        "colab_type": "text"
      },
      "source": [
        "# developement(validation) set"
      ]
    },
    {
      "cell_type": "markdown",
      "metadata": {
        "id": "kfStR4we5jCQ",
        "colab_type": "text"
      },
      "source": [
        "### split the developement set from training set"
      ]
    },
    {
      "cell_type": "code",
      "metadata": {
        "id": "SkjNdteVYY4D",
        "colab_type": "code",
        "colab": {}
      },
      "source": [
        "dev_rate = 0.1\n",
        "\n",
        "### impliment your code here: ###\n",
        "\n",
        "_x_dev = [:int(dev_rate * len(x_train))]\n",
        "_y_dev = [:int(dev_rate * len(x_train))]\n",
        "\n",
        "_x_train = [int(dev_rate * len(x_train)):]\n",
        "_y_train = [int(dev_rate * len(x_train)):]\n",
        "\n",
        "### impliment your code here: ###"
      ],
      "execution_count": 0,
      "outputs": []
    },
    {
      "cell_type": "markdown",
      "metadata": {
        "id": "qBPIbmKA5jxE",
        "colab_type": "text"
      },
      "source": [
        "train on _train and select the best parameter/model by _dev"
      ]
    },
    {
      "cell_type": "code",
      "metadata": {
        "id": "DKEU3qo8Q03O",
        "colab_type": "code",
        "colab": {}
      },
      "source": [
        "best_score = 0\n",
        "best_clf = None \n",
        "\n",
        "### impliment your code here: ###\n",
        "\n",
        "for clf in []:\n",
        "\n",
        "    clf.fit\n",
        "    score = \n",
        "\n",
        "    print('val score: {}, \\nmodel: {}\\n'.format(score, clf))\n",
        "\n",
        "    if score > best_score:\n",
        "        best_clf = clf\n",
        "        best_score = score\n",
        "\n",
        "### impliment your code here: ###\n",
        "print('\\n\\n\\n')\n",
        "print('WE TAKE THE BEST MODEL as \\n val score: {}, \\nmodel: {}'.format(best_score, best_clf))\n",
        "        "
      ],
      "execution_count": 0,
      "outputs": []
    },
    {
      "cell_type": "code",
      "metadata": {
        "id": "l4FvY5pHYsZH",
        "colab_type": "code",
        "colab": {}
      },
      "source": [
        "accuracy_test = accuracy_score(binarize_predict(best_clf.predict(x_test)), y_test)\n",
        "print('testing score: {}'.format(accuracy_test))"
      ],
      "execution_count": 0,
      "outputs": []
    },
    {
      "cell_type": "markdown",
      "metadata": {
        "id": "OVH2lGfAqQJf",
        "colab_type": "text"
      },
      "source": [
        "# You should also know:\n",
        "\n",
        "*   recall\n",
        "*   precision\n",
        "*   f1 score\n",
        "*   false positive rate(FPR)\n",
        "*   ROC / AUC\n",
        "*   cross validation\n",
        "*   overfitting/ underfitting\n",
        "*   other sklearn classification models\n",
        "\n",
        "\n",
        "\n",
        "\n"
      ]
    },
    {
      "cell_type": "code",
      "metadata": {
        "id": "5Tq_Z8GRoKRc",
        "colab_type": "code",
        "colab": {}
      },
      "source": [
        ""
      ],
      "execution_count": 0,
      "outputs": []
    },
    {
      "cell_type": "code",
      "metadata": {
        "id": "IiwV1Dj-rMaH",
        "colab_type": "code",
        "colab": {}
      },
      "source": [
        ""
      ],
      "execution_count": 0,
      "outputs": []
    },
    {
      "cell_type": "code",
      "metadata": {
        "id": "ne4RL3EgoKb5",
        "colab_type": "code",
        "colab": {}
      },
      "source": [
        ""
      ],
      "execution_count": 0,
      "outputs": []
    },
    {
      "cell_type": "code",
      "metadata": {
        "id": "rmv_pOA7oKV1",
        "colab_type": "code",
        "colab": {}
      },
      "source": [
        ""
      ],
      "execution_count": 0,
      "outputs": []
    },
    {
      "cell_type": "code",
      "metadata": {
        "id": "MPkNg5f0rLzj",
        "colab_type": "code",
        "colab": {}
      },
      "source": [
        ""
      ],
      "execution_count": 0,
      "outputs": []
    }
  ]
}
