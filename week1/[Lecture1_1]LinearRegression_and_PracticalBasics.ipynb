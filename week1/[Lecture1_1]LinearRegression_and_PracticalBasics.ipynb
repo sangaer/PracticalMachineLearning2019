{
  "nbformat": 4,
  "nbformat_minor": 0,
  "metadata": {
    "colab": {
      "name": "[Lecture1-1]LinearRegression_and_PracticalBasics.ipynb",
      "provenance": [],
      "collapsed_sections": [],
      "toc_visible": true
    },
    "kernelspec": {
      "name": "python3",
      "display_name": "Python 3"
    }
  },
  "cells": [
    {
      "cell_type": "markdown",
      "metadata": {
        "id": "rAWFQDdGc3oC",
        "colab_type": "text"
      },
      "source": [
        "# Lecture 1-1: Linear Regression"
      ]
    },
    {
      "cell_type": "markdown",
      "metadata": {
        "id": "JoSI4tmoctZN",
        "colab_type": "text"
      },
      "source": [
        "### Libraries"
      ]
    },
    {
      "cell_type": "code",
      "metadata": {
        "id": "A3ChKEaeGYi2",
        "colab_type": "code",
        "colab": {}
      },
      "source": [
        "# machine learning library\n",
        "import sklearn # https://scikit-learn.org/stable/\n",
        "\n",
        "# linear algebra\n",
        "import numpy as np # https://numpy.org/\n",
        "\n",
        "# data processing\n",
        "import pandas as pd # https://github.com/pandas-dev/pandas\n"
      ],
      "execution_count": 0,
      "outputs": []
    },
    {
      "cell_type": "markdown",
      "metadata": {
        "id": "Kj7zk-PwGPrb",
        "colab_type": "text"
      },
      "source": [
        "# Task: predict \"median_house_value\" with the rest columns"
      ]
    },
    {
      "cell_type": "markdown",
      "metadata": {
        "id": "GfO4jUrcuRyL",
        "colab_type": "text"
      },
      "source": [
        "pd.DataFrame"
      ]
    },
    {
      "cell_type": "code",
      "metadata": {
        "id": "Y0KXmnvFDwe_",
        "colab_type": "code",
        "colab": {}
      },
      "source": [
        "train_file = 'sample_data/california_housing_train.csv'\n",
        "test_file = 'sample_data/california_housing_test.csv'"
      ],
      "execution_count": 0,
      "outputs": []
    },
    {
      "cell_type": "code",
      "metadata": {
        "id": "iDMj0cb4WaUX",
        "colab_type": "code",
        "colab": {}
      },
      "source": [
        "### impliment your code here: ###\n",
        "df_train = pd.\n",
        "df_test = pd.\n",
        "### impliment your code here: ###"
      ],
      "execution_count": 0,
      "outputs": []
    },
    {
      "cell_type": "markdown",
      "metadata": {
        "id": "_-x3a_NYum1v",
        "colab_type": "text"
      },
      "source": [
        "### Take a glace at the data."
      ]
    },
    {
      "cell_type": "code",
      "metadata": {
        "id": "fIpFYykduCOI",
        "colab_type": "code",
        "colab": {}
      },
      "source": [
        "df_train.shape"
      ],
      "execution_count": 0,
      "outputs": []
    },
    {
      "cell_type": "code",
      "metadata": {
        "id": "_X-88quauCJ0",
        "colab_type": "code",
        "colab": {}
      },
      "source": [
        "print('df_train is a {} with {} samples and {} features'.format(\n",
        "    type(df_train), \n",
        "    df_train.shape[0], \n",
        "    df_train.shape[1]))"
      ],
      "execution_count": 0,
      "outputs": []
    },
    {
      "cell_type": "code",
      "metadata": {
        "id": "YhdpYKQFuB9b",
        "colab_type": "code",
        "colab": {}
      },
      "source": [
        "print('df_test is a {} with {} samples and {} features'.format(\n",
        "    type(df_test), \n",
        "    df_test.shape[0], \n",
        "    df_test.shape[1]))"
      ],
      "execution_count": 0,
      "outputs": []
    },
    {
      "cell_type": "code",
      "metadata": {
        "id": "9yejPTdNv2w-",
        "colab_type": "code",
        "colab": {}
      },
      "source": [
        "df_train.head(5)"
      ],
      "execution_count": 0,
      "outputs": []
    },
    {
      "cell_type": "code",
      "metadata": {
        "id": "gUUs23COv25m",
        "colab_type": "code",
        "colab": {}
      },
      "source": [
        "df_train.describe()"
      ],
      "execution_count": 0,
      "outputs": []
    },
    {
      "cell_type": "code",
      "metadata": {
        "id": "1CSglC6cv28b",
        "colab_type": "code",
        "colab": {}
      },
      "source": [
        "(df_train.describe() - df_test.describe()) / df_train.describe()"
      ],
      "execution_count": 0,
      "outputs": []
    },
    {
      "cell_type": "markdown",
      "metadata": {
        "id": "dqb3T44SHgt2",
        "colab_type": "text"
      },
      "source": [
        "### Check feature/ label dfistributuin"
      ]
    },
    {
      "cell_type": "code",
      "metadata": {
        "id": "viPRnN7Vv225",
        "colab_type": "code",
        "colab": {}
      },
      "source": [
        "import seaborn as sns\n",
        "import matplotlib.pyplot as plt"
      ],
      "execution_count": 0,
      "outputs": []
    },
    {
      "cell_type": "code",
      "metadata": {
        "id": "M8tULMY2DM8X",
        "colab_type": "code",
        "colab": {}
      },
      "source": [
        "sns.distplot(df_train['median_house_value'])\n",
        "plt.show()"
      ],
      "execution_count": 0,
      "outputs": []
    },
    {
      "cell_type": "markdown",
      "metadata": {
        "id": "gf__-00jzd4H",
        "colab_type": "text"
      },
      "source": [
        "## get X(feature), y(label)"
      ]
    },
    {
      "cell_type": "code",
      "metadata": {
        "id": "bKCdvi_Ev20f",
        "colab_type": "code",
        "colab": {}
      },
      "source": [
        "print(df_train.columns)"
      ],
      "execution_count": 0,
      "outputs": []
    },
    {
      "cell_type": "code",
      "metadata": {
        "id": "UUewPA19traQ",
        "colab_type": "code",
        "colab": {}
      },
      "source": [
        "### impliment your code here: ###\n",
        "\n",
        "# take first 8 columns as features\n",
        "x_train = \n",
        "\n",
        "# take \"median_house_value\" as label\n",
        "y_train = \n",
        "\n",
        "# take first 8 columns as features\n",
        "x_test = \n",
        "\n",
        "# take \"median_house_value\" as label\n",
        "y_test =\n",
        "\n",
        "### impliment your code here: ###"
      ],
      "execution_count": 0,
      "outputs": []
    },
    {
      "cell_type": "markdown",
      "metadata": {
        "id": "FnPXTLsiMS9G",
        "colab_type": "text"
      },
      "source": [
        "# Linear Regression"
      ]
    },
    {
      "cell_type": "markdown",
      "metadata": {
        "id": "kbcsyRHgUXS4",
        "colab_type": "text"
      },
      "source": [
        "![alt text](https://drive.google.com/uc?id=1wKQnzjZ1gHBcpMbv8HogGyE0EkjCvwFL)\n",
        "\n",
        "reference: Jessee Kung 2019/4/10 (https://sites.google.com/view/tu-ad1062-mlfundamentals/)"
      ]
    },
    {
      "cell_type": "code",
      "metadata": {
        "id": "-kGo2alZUYjj",
        "colab_type": "code",
        "colab": {}
      },
      "source": [
        ""
      ],
      "execution_count": 0,
      "outputs": []
    },
    {
      "cell_type": "markdown",
      "metadata": {
        "id": "Qyy-6PR2VMPG",
        "colab_type": "text"
      },
      "source": [
        "## Gradient Descent Solver(Optimizer)"
      ]
    },
    {
      "cell_type": "markdown",
      "metadata": {
        "id": "xSb_yBW4a5yB",
        "colab_type": "text"
      },
      "source": [
        "\n",
        "### loss function (which we want to minimize)"
      ]
    },
    {
      "cell_type": "markdown",
      "metadata": {
        "id": "DOweudL8bNxD",
        "colab_type": "text"
      },
      "source": [
        "![alt text](https://drive.google.com/uc?id=1rhRQyxRwvSQ3pIc_oBwCcatBz-gO4uSY)\n",
        "\n",
        "m: number of samples"
      ]
    },
    {
      "cell_type": "markdown",
      "metadata": {
        "id": "kZQ0XitXbYp2",
        "colab_type": "text"
      },
      "source": [
        "### optimize"
      ]
    },
    {
      "cell_type": "markdown",
      "metadata": {
        "id": "mrD_pnfzcQH2",
        "colab_type": "text"
      },
      "source": [
        "![alt text](https://drive.google.com/uc?id=1IwVWD8JeBvh34fNobAsShBtjSxc7cFVM)"
      ]
    },
    {
      "cell_type": "markdown",
      "metadata": {
        "id": "KOZXNOW9ck_U",
        "colab_type": "text"
      },
      "source": [
        "### mathematical intuition"
      ]
    },
    {
      "cell_type": "markdown",
      "metadata": {
        "id": "zlsVaBEIcafs",
        "colab_type": "text"
      },
      "source": [
        "![alt text](https://drive.google.com/uc?id=1AOXqZfhCQqJnkEd5be8inqnY1dfWWKEQ)"
      ]
    },
    {
      "cell_type": "markdown",
      "metadata": {
        "id": "CyQB-h6wIFx3",
        "colab_type": "text"
      },
      "source": [
        "# Simplified Gradient Descent Linear Regression Model as COde"
      ]
    },
    {
      "cell_type": "code",
      "metadata": {
        "id": "saz-y4DsnR-K",
        "colab_type": "code",
        "colab": {}
      },
      "source": [
        "import math # for checking \"float('inf')\" and float('nan')\n",
        "\n",
        "class GDRegressor:\n",
        "\n",
        "    def __init__(self, lr=0.1, it=10000):\n",
        "        self.w = None\n",
        "        self.b = None\n",
        "        self.lr = lr\n",
        "        self.iteration = it\n",
        "\n",
        "    def fit(self, x, y):\n",
        "        x = np.array(x)\n",
        "        y = np.array(y)\n",
        "        losses = list()\n",
        "        \n",
        "        m, n = x.shape\n",
        "        self.w = np.zeros([n])\n",
        "        self.b = 0\n",
        "\n",
        "        for _ in range(self.iteration):\n",
        "            _y = self.predict(x)\n",
        "            \n",
        "            loss = (1 / (2*m)) * np.sum(np.square(_y - y)) # loss\n",
        "            assert not math.isnan(loss)\n",
        "            assert not math.isinf(loss)\n",
        "            losses.append(loss)\n",
        "\n",
        "            dw = (1 / m) * np.dot(_y - y, x) # dw = d(loss)/dw\n",
        "            db = (1 / m) * np.sum(_y - y) # db = d(loss)/db\n",
        "\n",
        "            self.w -= self.lr * dw\n",
        "            self.b -= self.lr * db\n",
        "        # return losses\n",
        "\n",
        "    def predict(self, x):\n",
        "        assert self.w is not None\n",
        "        assert self.b is not None\n",
        "        return np.dot(self.w, x.T) + self.b\n"
      ],
      "execution_count": 0,
      "outputs": []
    },
    {
      "cell_type": "code",
      "metadata": {
        "id": "JHT688Raz5Ly",
        "colab_type": "code",
        "colab": {}
      },
      "source": [
        "reg = GDRegressor()"
      ],
      "execution_count": 0,
      "outputs": []
    },
    {
      "cell_type": "code",
      "metadata": {
        "id": "Hk2PJduBnUkB",
        "colab_type": "code",
        "colab": {}
      },
      "source": [
        "reg.fit(x_train, y_train)"
      ],
      "execution_count": 0,
      "outputs": []
    },
    {
      "cell_type": "markdown",
      "metadata": {
        "id": "Yeq4eKrN1V2a",
        "colab_type": "text"
      },
      "source": [
        "# OMG We got error! \n",
        "# Why?"
      ]
    },
    {
      "cell_type": "markdown",
      "metadata": {
        "id": "dE1tWQyu1pSe",
        "colab_type": "text"
      },
      "source": [
        "## Normalization"
      ]
    },
    {
      "cell_type": "markdown",
      "metadata": {
        "id": "iVi3-7Eod3z0",
        "colab_type": "text"
      },
      "source": [
        "![alt text](https://drive.google.com/uc?id=1RBHOQ1ZxVDqtElJR7tuB7AbLL0bmRJ8U)\n",
        "reference: Jessee Kung 2019/4/3 (https://sites.google.com/view/tu-ad1062-mlfundamentals/)"
      ]
    },
    {
      "cell_type": "code",
      "metadata": {
        "id": "Hf20wB0gK1kQ",
        "colab_type": "code",
        "colab": {}
      },
      "source": [
        "from sklearn.preprocessing import StandardScaler\n",
        "normalizer = StandardScaler() # https://scikit-learn.org/stable/modules/generated/sklearn.preprocessing.StandardScaler.html"
      ],
      "execution_count": 0,
      "outputs": []
    },
    {
      "cell_type": "markdown",
      "metadata": {
        "id": "62Z7XYpKKpKH",
        "colab_type": "text"
      },
      "source": [
        "Fit and Normalize the trainingset"
      ]
    },
    {
      "cell_type": "code",
      "metadata": {
        "id": "xsnYBoz-1431",
        "colab_type": "code",
        "colab": {}
      },
      "source": [
        "### impliment your code here: ###\n",
        "\n",
        "normalizer.\n",
        "x_train_norm = \n",
        "\n",
        "### impliment your code here: ###"
      ],
      "execution_count": 0,
      "outputs": []
    },
    {
      "cell_type": "markdown",
      "metadata": {
        "id": "iGnwYGY9K4qK",
        "colab_type": "text"
      },
      "source": [
        "Fit(train) the model"
      ]
    },
    {
      "cell_type": "code",
      "metadata": {
        "id": "PCu1UGB31nF1",
        "colab_type": "code",
        "colab": {}
      },
      "source": [
        "### impliment your code here: ###\n",
        "\n",
        "reg.\n",
        "\n",
        "### impliment your code here: ###\n"
      ],
      "execution_count": 0,
      "outputs": []
    },
    {
      "cell_type": "markdown",
      "metadata": {
        "id": "YXIFlEtEK9PF",
        "colab_type": "text"
      },
      "source": [
        "Inference(predict)"
      ]
    },
    {
      "cell_type": "code",
      "metadata": {
        "id": "VOamRTCk1VRG",
        "colab_type": "code",
        "colab": {}
      },
      "source": [
        "### impliment your code here: ###\n",
        "\n",
        "x_test_norm = normalizer.\n",
        "y_predict = reg.\n",
        "\n",
        "### impliment your code here: ###"
      ],
      "execution_count": 0,
      "outputs": []
    },
    {
      "cell_type": "markdown",
      "metadata": {
        "id": "DRzqd2BxLp0H",
        "colab_type": "text"
      },
      "source": [
        "# Common Regression Metrics"
      ]
    },
    {
      "cell_type": "markdown",
      "metadata": {
        "id": "BYBtCVbYjAbC",
        "colab_type": "text"
      },
      "source": [
        "![alt text](https://drive.google.com/uc?id=1g-YNX3HW0_7qXMfX7squ93pGKLMZqErk)"
      ]
    },
    {
      "cell_type": "markdown",
      "metadata": {
        "id": "kIMTj3r9jOx9",
        "colab_type": "text"
      },
      "source": [
        "# Q: would you take 1-|MAPE| or 1-|MPE| as your scoring function?"
      ]
    },
    {
      "cell_type": "code",
      "metadata": {
        "id": "Llc5oyRAKG-H",
        "colab_type": "code",
        "colab": {}
      },
      "source": [
        "from sklearn.metrics import mean_absolute_error, mean_squared_error\n",
        "\n",
        "def mean_absolute_percentage_error(y_true, y_pred): \n",
        "    y_true, y_pred = np.array(y_true), np.array(y_pred)\n",
        "    return np.mean(np.abs((y_true - y_pred) / y_true)) * 100\n",
        "\n",
        "def mean_percentage_error(y_true, y_pred): \n",
        "    y_true, y_pred = np.array(y_true), np.array(y_pred)\n",
        "    return np.mean((y_true - y_pred) / y_true) * 100"
      ],
      "execution_count": 0,
      "outputs": []
    },
    {
      "cell_type": "code",
      "metadata": {
        "id": "5cftOrO0epuh",
        "colab_type": "code",
        "colab": {}
      },
      "source": [
        "for metrix in [mean_absolute_error, mean_squared_error, mean_absolute_percentage_error, mean_percentage_error]:\n",
        "    print('{}: {}'.format(metrix.__name__, metrix(y_test, y_predict)))"
      ],
      "execution_count": 0,
      "outputs": []
    },
    {
      "cell_type": "markdown",
      "metadata": {
        "id": "4f5jZgyDIkfR",
        "colab_type": "text"
      },
      "source": [
        "# Other common algorithms"
      ]
    },
    {
      "cell_type": "code",
      "metadata": {
        "id": "UpB2b7_aGpTn",
        "colab_type": "code",
        "colab": {}
      },
      "source": [
        "from sklearn.linear_model import LinearRegression\n",
        "from sklearn.svm import SVR, LinearSVR\n",
        "from sklearn.linear_model import SGDRegressor\n",
        "from sklearn.neural_network import MLPRegressor"
      ],
      "execution_count": 0,
      "outputs": []
    },
    {
      "cell_type": "code",
      "metadata": {
        "id": "56MqX0NC0_ib",
        "colab_type": "code",
        "colab": {}
      },
      "source": [
        "reg = SGDRegressor(alpha=0.0001, average=False, early_stopping=False, epsilon=0.1,\n",
        "                   eta0=0.1, fit_intercept=True, l1_ratio=0.1,\n",
        "                   learning_rate='invscaling', loss='squared_loss', max_iter=1000,\n",
        "                   n_iter_no_change=5, penalty='l2', power_t=0.25, random_state=None,\n",
        "                   shuffle=True, tol=0.01, validation_fraction=0.1, verbose=0,\n",
        "                   warm_start=False)\n",
        "reg.fit(normalizer.fit_transform(x_train), y_train)\n",
        "y_predict = reg.predict(normalizer.transform(x_test))\n",
        "\n",
        "print(reg)\n",
        "for metrix in [mean_absolute_error, mean_squared_error, mean_absolute_percentage_error, mean_percentage_error]:\n",
        "    print('{}: {}'.format(metrix.__name__, metrix(y_test, y_predict)))"
      ],
      "execution_count": 0,
      "outputs": []
    },
    {
      "cell_type": "code",
      "metadata": {
        "id": "nQX_0qZnju6N",
        "colab_type": "code",
        "colab": {}
      },
      "source": [
        "reg = SGDRegressor()\n",
        "reg.fit(normalizer.fit_transform(x_train), y_train)\n",
        "y_predict = reg.predict(normalizer.transform(x_test))\n",
        "\n",
        "print(reg)\n",
        "for metrix in [mean_absolute_error, mean_squared_error, mean_absolute_percentage_error, mean_percentage_error]:\n",
        "    print('{}: {}'.format(metrix.__name__, metrix(y_test, y_predict)))"
      ],
      "execution_count": 0,
      "outputs": []
    },
    {
      "cell_type": "markdown",
      "metadata": {
        "id": "Aa30tJ892jDe",
        "colab_type": "text"
      },
      "source": [
        "# Scoreing"
      ]
    },
    {
      "cell_type": "code",
      "metadata": {
        "id": "VKeYqCMsj-tM",
        "colab_type": "code",
        "colab": {}
      },
      "source": [
        "### impliment your code here: ###\n",
        "\n",
        "your_reg = \n",
        "your_reg.fit\n",
        "y_predict = reg.predict\n",
        "\n",
        "### impliment your code here: ###"
      ],
      "execution_count": 0,
      "outputs": []
    },
    {
      "cell_type": "code",
      "metadata": {
        "id": "hKUu7mWFhH9c",
        "colab_type": "code",
        "colab": {}
      },
      "source": [
        "print(reg)\n",
        "for metrix in [mean_absolute_error, mean_squared_error, mean_absolute_percentage_error, mean_percentage_error]:\n",
        "    print('{}: {}'.format(metrix.__name__, metrix(y_test, y_predict)))"
      ],
      "execution_count": 0,
      "outputs": []
    },
    {
      "cell_type": "code",
      "metadata": {
        "id": "yq2-tH3RJARK",
        "colab_type": "code",
        "colab": {}
      },
      "source": [
        ""
      ],
      "execution_count": 0,
      "outputs": []
    },
    {
      "cell_type": "code",
      "metadata": {
        "id": "JchOtck8JAPa",
        "colab_type": "code",
        "colab": {}
      },
      "source": [
        ""
      ],
      "execution_count": 0,
      "outputs": []
    },
    {
      "cell_type": "code",
      "metadata": {
        "id": "yQye1FvxC2gS",
        "colab_type": "code",
        "colab": {}
      },
      "source": [
        ""
      ],
      "execution_count": 0,
      "outputs": []
    },
    {
      "cell_type": "code",
      "metadata": {
        "id": "jI-unnlEK0En",
        "colab_type": "code",
        "colab": {}
      },
      "source": [
        ""
      ],
      "execution_count": 0,
      "outputs": []
    },
    {
      "cell_type": "code",
      "metadata": {
        "id": "XWuN65Zki-9m",
        "colab_type": "code",
        "colab": {}
      },
      "source": [
        ""
      ],
      "execution_count": 0,
      "outputs": []
    },
    {
      "cell_type": "code",
      "metadata": {
        "id": "OdGuN7gcjMAG",
        "colab_type": "code",
        "colab": {}
      },
      "source": [
        ""
      ],
      "execution_count": 0,
      "outputs": []
    },
    {
      "cell_type": "code",
      "metadata": {
        "id": "xNVfEXkIj8yU",
        "colab_type": "code",
        "colab": {}
      },
      "source": [
        ""
      ],
      "execution_count": 0,
      "outputs": []
    }
  ]
}
